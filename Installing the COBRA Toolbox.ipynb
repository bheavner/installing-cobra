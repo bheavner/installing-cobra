{
 "cells": [
  {
   "cell_type": "markdown",
   "metadata": {},
   "source": [
    "This document demonstrates what I needed to do to instal the [COBRA Toolbox](http://opencobra.github.io/cobratoolbox/) and get it running on a fresh MATLAB installation.\n",
    "\n",
    "Some technical details: I'm using a Mac running OS X Version 10.11.3 and MATLAB version 2014a. If you're in a different environment, you'll likely need to adjust your path and other details accordingly.\n",
    "\n",
    "If you need help, the [COBRA Toolbox Google Group](https://groups.google.com/forum/#!forum/cobra-toolbox) is a good place to ask.\n",
    "\n",
    "To start, I'll check that this is a fresh install (there's no COBRA Toolbox or glpk):"
   ]
  },
  {
   "cell_type": "code",
   "execution_count": 3,
   "metadata": {
    "collapsed": false
   },
   "outputs": [
    {
     "name": "stdout",
     "output_type": "stream",
     "text": [
      "'initCobraToolbox' not found.\n"
     ]
    }
   ],
   "source": [
    "which initCobraToolbox;"
   ]
  },
  {
   "cell_type": "code",
   "execution_count": 4,
   "metadata": {
    "collapsed": false
   },
   "outputs": [
    {
     "name": "stdout",
     "output_type": "stream",
     "text": [
      "'glpk' not found.\n"
     ]
    }
   ],
   "source": [
    "which glpk;"
   ]
  },
  {
   "cell_type": "markdown",
   "metadata": {},
   "source": [
    "I'll begin by checking the local working directory and its contents:"
   ]
  },
  {
   "cell_type": "code",
   "execution_count": 21,
   "metadata": {
    "collapsed": false
   },
   "outputs": [
    {
     "name": "stdout",
     "output_type": "stream",
     "text": [
      "/Users/bheavner/Projects/cobra_jupyter\n"
     ]
    }
   ],
   "source": [
    "cd"
   ]
  },
  {
   "cell_type": "code",
   "execution_count": 2,
   "metadata": {
    "collapsed": false
   },
   "outputs": [
    {
     "name": "stdout",
     "output_type": "stream",
     "text": [
      "total 40\n",
      "-rw-r--r--  1 bheavner  staff  9494 Feb  9 14:10 Installing the COBRA Toolbox.ipynb\n",
      "-rw-r--r--  1 bheavner  staff  1078 Feb  9 12:51 LICENSE\n",
      "-rw-r--r--  1 bheavner  staff  1536 Feb  9 13:31 hello_world.ipynb\n"
     ]
    }
   ],
   "source": [
    "ls -l"
   ]
  },
  {
   "cell_type": "markdown",
   "metadata": {},
   "source": [
    "Now I'll download the COBRA Toolbox. For convienece, I'll do this in the command lime instead of in this notebook. The -L flag on curl is needed because the download redirects. If you prefer, you can just going to the dowhload page and clicking the link. The command I'll use is:\n",
    "\n",
    "`curl -O -J -L https://github.com/opencobra/cobratoolbox/tarball/master`\n",
    "\n",
    "Did it work?"
   ]
  },
  {
   "cell_type": "code",
   "execution_count": 1,
   "metadata": {
    "collapsed": false
   },
   "outputs": [
    {
     "name": "stdout",
     "output_type": "stream",
     "text": [
      "total 329936\n",
      "-rw-r--r--  1 bheavner  staff       5242 Feb  9 14:19 Installing the COBRA Toolbox.ipynb\n",
      "-rw-r--r--  1 bheavner  staff       1078 Feb  9 12:51 LICENSE\n",
      "-rw-r--r--  1 bheavner  staff       1536 Feb  9 13:31 hello_world.ipynb\n",
      "-rw-r--r--  1 bheavner  staff  168910051 Feb  9 14:22 opencobra-cobratoolbox-4482ec0.tar.gz\n"
     ]
    }
   ],
   "source": [
    "ls -l"
   ]
  },
  {
   "cell_type": "markdown",
   "metadata": {},
   "source": [
    "Next, unzip the toolbox. Again, I'll do it at the command line instead of this notebook. I'll use\n",
    "\n",
    "`tar -xvf opencobra-cobratoolbox-4482ec0.tar.gz`"
   ]
  },
  {
   "cell_type": "code",
   "execution_count": 2,
   "metadata": {
    "collapsed": false
   },
   "outputs": [
    {
     "name": "stdout",
     "output_type": "stream",
     "text": [
      "total 329936\n",
      "-rw-r--r--    1 bheavner  staff       5242 Feb  9 14:19 Installing the COBRA Toolbox.ipynb\n",
      "-rw-r--r--    1 bheavner  staff       1078 Feb  9 12:51 LICENSE\n",
      "-rw-r--r--    1 bheavner  staff       1536 Feb  9 13:31 hello_world.ipynb\n",
      "drwxr-xr-x  103 bheavner  staff       3502 Feb  4 13:51 opencobra-cobratoolbox-4482ec0\n",
      "-rw-r--r--    1 bheavner  staff  168910051 Feb  9 14:22 opencobra-cobratoolbox-4482ec0.tar.gz\n"
     ]
    }
   ],
   "source": [
    "ls -l"
   ]
  },
  {
   "cell_type": "code",
   "execution_count": 3,
   "metadata": {
    "collapsed": false
   },
   "outputs": [],
   "source": [
    "cd opencobra-cobratoolbox-4482ec0"
   ]
  },
  {
   "cell_type": "code",
   "execution_count": 4,
   "metadata": {
    "collapsed": false
   },
   "outputs": [
    {
     "name": "stdout",
     "output_type": "stream",
     "text": [
      "/Users/bheavner/Projects/cobra_jupyter/opencobra-cobratoolbox-4482ec0\n"
     ]
    }
   ],
   "source": [
    "cd"
   ]
  },
  {
   "cell_type": "markdown",
   "metadata": {},
   "source": [
    "So that's it - we've got the COBRA Toolbox now. Test it."
   ]
  },
  {
   "cell_type": "code",
   "execution_count": 5,
   "metadata": {
    "collapsed": false
   },
   "outputs": [
    {
     "name": "stdout",
     "output_type": "stream",
     "text": [
      "[\bWarning: Function isrow has the same name as a MATLAB builtin. We suggest you\n",
      "rename the function to avoid a potential name conflict.]\b \n",
      "[\b> In path at 109\n",
      "  In addpath at 86\n",
      "  In addpath_recurse at 35\n",
      "  In addpath_recurse at 43\n",
      "  In initCobraToolbox at 30\n",
      "  In pymat_eval at 31\n",
      "  In matlabserver at 24]\b \n",
      "Define LP solver...\n",
      "[\bWarning: LP solver Gurobi not useable: gurobi.m not in Matlab path]\b \n",
      "[\b> In changeCobraSolver at 160\n",
      "  In initCobraToolbox at 48\n",
      "  In pymat_eval at 31\n",
      "  In matlabserver at 24]\b \n",
      "[\bWarning: LP solver Gurobi not useable: gurobi.m not in Matlab path]\b \n",
      "[\b> In changeCobraSolver at 155\n",
      "  In initCobraToolbox at 48\n",
      "  In pymat_eval at 31\n",
      "  In matlabserver at 24]\b \n",
      "[\bWarning: LP solver Gurobi not useable: gurobi_mex not in Matlab path]\b \n",
      "[\b> In changeCobraSolver at 150\n",
      "  In initCobraToolbox at 48\n",
      "  In pymat_eval at 31\n",
      "  In matlabserver at 24]\b \n",
      "[\bWarning: LP solver CPLEX through Tomlab not usable: tomRun.m not in Matlab path]\b \n",
      "[\b> In changeCobraSolver at 123\n",
      "  In initCobraToolbox at 48\n",
      "  In pymat_eval at 31\n",
      "  In matlabserver at 24]\b \n",
      "LP solver: glpk \n",
      "\n",
      "Define MILP solver...\n",
      "[\bWarning: MILP solver Gurobi not useable: gurobi.m not in Matlab path]\b \n",
      "[\b> In changeCobraSolver at 231\n",
      "  In initCobraToolbox at 60\n",
      "  In pymat_eval at 31\n",
      "  In matlabserver at 24]\b \n",
      "[\bWarning: MILP solver Gurobi not useable: gurobi.m not in Matlab path]\b \n",
      "[\b> In changeCobraSolver at 226\n",
      "  In initCobraToolbox at 60\n",
      "  In pymat_eval at 31\n",
      "  In matlabserver at 24]\b \n",
      "[\bWarning: MILP solver Gurobi not useable: gurobi_mex not in Matlab path]\b \n",
      "[\b> In changeCobraSolver at 221\n",
      "  In initCobraToolbox at 60\n",
      "  In pymat_eval at 31\n",
      "  In matlabserver at 24]\b \n",
      "[\bWarning: MILP solver CPLEX through Tomlab not usable: tomRun.m not in Matlab\n",
      "path]\b \n",
      "[\b> In changeCobraSolver at 204\n",
      "  In initCobraToolbox at 60\n",
      "  In pymat_eval at 31\n",
      "  In matlabserver at 24]\b \n",
      "MILP solver: glpk\n",
      "\n",
      "Define QP solver...\n",
      "[\bWarning: QP solver Gurobi not useable: gurobi.m not in Matlab path]\b \n",
      "[\b> In changeCobraSolver at 294\n",
      "  In initCobraToolbox at 72\n",
      "  In pymat_eval at 31\n",
      "  In matlabserver at 24]\b \n",
      "[\bWarning: QP solver Gurobi not useable: gurobi.m not in Matlab path]\b \n",
      "[\b> In changeCobraSolver at 287\n",
      "  In initCobraToolbox at 72\n",
      "  In pymat_eval at 31\n",
      "  In matlabserver at 24]\b \n",
      "[\bWarning: QP solver Gurobi not useable: gurobi_mex not in Matlab path]\b \n",
      "[\b> In changeCobraSolver at 280\n",
      "  In initCobraToolbox at 72\n",
      "  In pymat_eval at 31\n",
      "  In matlabserver at 24]\b \n",
      "[\bWarning: QP solver CPLEX through Tomlab not usable: tomRun.m not in Matlab path]\b \n",
      "[\b> In changeCobraSolver at 251\n",
      "  In initCobraToolbox at 72\n",
      "  In pymat_eval at 31\n",
      "  In matlabserver at 24]\b \n",
      "[\bWarning: qpng solver has not been fully tested - results may not be correct]\b \n",
      "[\b> In changeCobraSolver at 261\n",
      "  In initCobraToolbox at 72\n",
      "  In pymat_eval at 31\n",
      "  In matlabserver at 24]\b \n",
      "QP solver: qpng\n",
      "\n",
      "Define MIQP solver...\n",
      "[\bWarning: MIQP solver gurobi not usable: gurobi.m not in Matlab path]\b \n",
      "[\b> In changeCobraSolver at 332\n",
      "  In initCobraToolbox at 84\n",
      "  In pymat_eval at 31\n",
      "  In matlabserver at 24]\b \n",
      "[\bWarning: MIQP solver gurobi not usable: gurobi.m not in Matlab path]\b \n",
      "[\b> In changeCobraSolver at 325\n",
      "  In initCobraToolbox at 84\n",
      "  In pymat_eval at 31\n",
      "  In matlabserver at 24]\b \n",
      "[\bWarning: MIQP solver gurobi not usable: gurobi_mex not in Matlab path]\b \n",
      "[\b> In changeCobraSolver at 318\n",
      "  In initCobraToolbox at 84\n",
      "  In pymat_eval at 31\n",
      "  In matlabserver at 24]\b \n",
      "[\bWarning: MIQP solver CPLEX through Tomlab not usable: tomRun.m not in Matlab\n",
      "path]\b \n",
      "[\b> In changeCobraSolver at 311\n",
      "  In initCobraToolbox at 84\n",
      "  In pymat_eval at 31\n",
      "  In matlabserver at 24]\b \n",
      "MIQP solver: FAILED\n",
      "\n",
      "Define CB map output...\n",
      "CB map output: svg\n",
      "\n",
      "TranslateSBML worked with the test .xml file: Ecoli_core_ECOSAL.xml\n"
     ]
    }
   ],
   "source": [
    "initCobraToolbox"
   ]
  },
  {
   "cell_type": "markdown",
   "metadata": {},
   "source": [
    "I'm not sure why I'm getting that \"Function isrow has the same name as a MATLAB builtin\" warning.. it appears to come from:\n",
    ">In path at 109\n",
    ">  In addpath at 86\n",
    ">  In addpath_recurse at 35\n",
    ">  In addpath_recurse at 43\n",
    ">  In initCobraToolbox at 30 \n",
    "\n",
    "and that last line is a surprise! \n",
    "\n",
    "The COBRA Toolbox README says \"To read / write SBML files you must install libSBML 5.5.0 from here: http://sourceforge.net/projects/sbml/files/libsbml/\" - I don't recall doing that before on this machine, but translateSBML seems to work anyway? Ah well. I'll proceed!"
   ]
  },
  {
   "cell_type": "markdown",
   "metadata": {},
   "source": [
    "Next, test the install (note: I don't think I've installed the sbml toolbox or a solver at this point, so expect the tests using glpk to work, but not others...)"
   ]
  },
  {
   "cell_type": "code",
   "execution_count": null,
   "metadata": {
    "collapsed": true
   },
   "outputs": [],
   "source": [
    "testAll"
   ]
  },
  {
   "cell_type": "markdown",
   "metadata": {},
   "source": [
    "This seems to timeout on the \"single reaction deletion analysis\" test, so I jump from this notebook over to MATLAB and run it there. After they run, the output is this:"
   ]
  },
  {
   "cell_type": "markdown",
   "metadata": {
    "collapsed": true
   },
   "source": [
    "```\n",
    "Tests passed: \n",
    "testBuildMPS\n",
    "testDeletionStudy\n",
    "testElementalBalance\n",
    "testFBA\n",
    "testFVA\n",
    "testFastcc\n",
    "testFluxConsistency\n",
    "testGrowthExpMatch\n",
    "testMaps\n",
    "testModelManipulation\n",
    "modelCitations_update\n",
    "testRank\n",
    "testRobustnessAnalysis\n",
    "testgpSampler\n",
    "testSubspaces\n",
    "testTissueModel\n",
    "\n",
    "\n",
    "Tests not passed: \n",
    "testC13Fitting\n",
    "testFASTCORE\n",
    "testGDLS\n",
    "testMOMA\n",
    "modelCitations\n",
    "sbmlTestModelToMat\n",
    "testModels\n",
    "testModelsAlgorithmically\n",
    "testNullspace\n",
    "testOptKnock\n",
    "testSBML\n",
    "testSampleCbModel\n",
    "testDifferentLPSolvers\n",
    "testSolvers\n",
    "testStoichiometricConsistency\n",
    "testpFBA\n",
    "IT IS NOT NECESSARY FOR THE COBRA TOOLBOX TO PASS ALL TESTS TO FUNCTION; HOWEVER, IT MUST PASS THE TESTS THAT ARE RELEVANT TO YOUR PARTICULAR PROBLEM!!!\n",
    "Tests may not pass for several reasons.  Some of the most common issues:\n",
    "1.  The correct solver is not installed.  Certain tests require LP, MILP, QP or NLP solvers.  See changeCobraSolvers.m for a complete list of supported solvers.\n",
    "These tests will fail when running testAll unless one has the tomlab suite installed.  If all of the functions that you require for your use function then do not worry about them: testC13Fitting, testGDLS, testMOMA, testOptKnock, testSolvers\n",
    "If a particular test fails, you can run that test individually for more information\n",
    "\n",
    "ans =\n",
    "\n",
    "16 of 32 tests completed successfully.\n",
    "```"
   ]
  },
  {
   "cell_type": "markdown",
   "metadata": {},
   "source": [
    "Cool! I'll want to use SBML, so I'll go back to install the SBML Toolbox from http://sourceforge.net/projects/sbml/files/libsbml/ - I'll grab the 5.12.0 stable release mac OS X binary and install it. Specifically, I want the MATLAB binding. The OS X version is at http://sourceforge.net/projects/sbml/files/libsbml/5.12.0/stable/Mac%20OS%20X/MATLAB%20interface/\n",
    "\n",
    "The documentation says:\n",
    "Installation instructions\n",
    "\n",
    ">    Extract the archive somewhere on your local computer.\n",
    ">\n",
    ">    Start your copy of MATLAB and add the folder to your MATLAB path using addPath.\n",
    ">\n",
    ">    Verify that everything works. You can do this easily by changing into that folder within your running MATLAB environment, then issuing the command TranslateSBML('test.xml') in MATLAB. If everything went as planned, the output of that command will be a MATLAB structure representing the toy test model.\n",
    ">\n",
    ">    Save the changes to your MATLAB path for future use. To do this, you can use the savepath command in MATLAB.\n",
    "\n",
    "So I'll go to my command line and change directory to /Users/bheavner/Projects/cobra_jupyter then download the software with \n",
    "\n",
    "`curl -O -J -L http://sourceforge.net/projects/sbml/files/libsbml/5.12.0/stable/Mac%20OS%20X/MATLAB%20interface/libSBML-5.12.0-macosx-matlab-binaries.tar.gz/download`"
   ]
  },
  {
   "cell_type": "code",
   "execution_count": 1,
   "metadata": {
    "collapsed": true
   },
   "outputs": [],
   "source": [
    "cd /Users/bheavner/Projects/cobra_jupyter"
   ]
  },
  {
   "cell_type": "code",
   "execution_count": 2,
   "metadata": {
    "collapsed": false
   },
   "outputs": [
    {
     "name": "stdout",
     "output_type": "stream",
     "text": [
      "/Users/bheavner/Projects/cobra_jupyter\n"
     ]
    }
   ],
   "source": [
    "cd"
   ]
  },
  {
   "cell_type": "code",
   "execution_count": 3,
   "metadata": {
    "collapsed": false
   },
   "outputs": [
    {
     "name": "stdout",
     "output_type": "stream",
     "text": [
      "total 335352\n",
      "-rw-r--r--    1 bheavner  staff      14880 Feb  9 15:33 Installing the COBRA Toolbox.ipynb\n",
      "-rw-r--r--    1 bheavner  staff       1078 Feb  9 12:51 LICENSE\n",
      "-rw-r--r--    1 bheavner  staff       1536 Feb  9 13:31 hello_world.ipynb\n",
      "-rw-r--r--    1 bheavner  staff    2762569 Feb  9 15:34 libSBML-5.12.0-macosx-matlab-binaries.tar.gz\n",
      "drwxr-xr-x  103 bheavner  staff       3502 Feb  4 13:51 opencobra-cobratoolbox-4482ec0\n",
      "-rw-r--r--    1 bheavner  staff  168910051 Feb  9 14:22 opencobra-cobratoolbox-4482ec0.tar.gz\n"
     ]
    }
   ],
   "source": [
    "ls -l"
   ]
  },
  {
   "cell_type": "markdown",
   "metadata": {},
   "source": [
    "Unzip it with `tar -xvf libSBML-5.12.0-macosx-matlab-binaries.tar.gz` to get:"
   ]
  },
  {
   "cell_type": "code",
   "execution_count": 5,
   "metadata": {
    "collapsed": false
   },
   "outputs": [
    {
     "name": "stdout",
     "output_type": "stream",
     "text": [
      "total 335360\n",
      "-rw-r--r--    1 bheavner  staff      16557 Feb  9 15:35 Installing the COBRA Toolbox.ipynb\n",
      "-rw-r--r--    1 bheavner  staff       1078 Feb  9 12:51 LICENSE\n",
      "-rw-r--r--    1 bheavner  staff       1536 Feb  9 13:31 hello_world.ipynb\n",
      "-rw-r--r--    1 bheavner  staff    2762569 Feb  9 15:34 libSBML-5.12.0-macosx-matlab-binaries.tar.gz\n",
      "drwxr-xr-x   16 bheavner  staff        544 Nov 10 07:08 libSBML-5.12.0-matlab\n",
      "drwxr-xr-x  103 bheavner  staff       3502 Feb  4 13:51 opencobra-cobratoolbox-4482ec0\n",
      "-rw-r--r--    1 bheavner  staff  168910051 Feb  9 14:22 opencobra-cobratoolbox-4482ec0.tar.gz\n"
     ]
    }
   ],
   "source": [
    "ls -l"
   ]
  },
  {
   "cell_type": "markdown",
   "metadata": {},
   "source": [
    "Add it to the MATLAB Path, and save the path:"
   ]
  },
  {
   "cell_type": "code",
   "execution_count": 6,
   "metadata": {
    "collapsed": true
   },
   "outputs": [],
   "source": [
    "addpath('/Users/bheavner/Projects/cobra_jupyter/libSBML-5.12.0-matlab')"
   ]
  },
  {
   "cell_type": "markdown",
   "metadata": {},
   "source": [
    "test the install:"
   ]
  },
  {
   "cell_type": "code",
   "execution_count": 7,
   "metadata": {
    "collapsed": false
   },
   "outputs": [
    {
     "name": "stdout",
     "output_type": "stream",
     "text": [
      "ans = \n",
      "\n",
      "              typecode: 'SBML_MODEL'\n",
      "                metaid: ''\n",
      "                 notes: '<notes>\n",
      "  <body xmlns=\"http://www.w3.org/1999/xht...'\n",
      "            annotation: ''\n",
      "            SBML_level: 2\n",
      "          SBML_version: 1\n",
      "                  name: ''\n",
      "                    id: 'Branch'\n",
      "    functionDefinition: [1x0 struct]\n",
      "        unitDefinition: [1x0 struct]\n",
      "           compartment: [1x1 struct]\n",
      "               species: [1x4 struct]\n",
      "             parameter: [1x0 struct]\n",
      "                  rule: [1x0 struct]\n",
      "              reaction: [1x3 struct]\n",
      "                 event: [1x0 struct]\n",
      "           time_symbol: ''\n",
      "          delay_symbol: ''\n",
      "            namespaces: [1x1 struct]\n"
     ]
    }
   ],
   "source": [
    "cd libSBML-5.12.0-matlab; TranslateSBML('test.xml')"
   ]
  },
  {
   "cell_type": "markdown",
   "metadata": {},
   "source": [
    "Save the changes to your MATLAB path for future use. "
   ]
  },
  {
   "cell_type": "code",
   "execution_count": 10,
   "metadata": {
    "collapsed": true
   },
   "outputs": [],
   "source": [
    "savepath"
   ]
  },
  {
   "cell_type": "markdown",
   "metadata": {},
   "source": [
    "Then test the SBML i/o functionality in the cobraToolbox"
   ]
  },
  {
   "cell_type": "code",
   "execution_count": 16,
   "metadata": {
    "collapsed": false
   },
   "outputs": [],
   "source": [
    "cd opencobra-cobratoolbox-4482ec0"
   ]
  },
  {
   "cell_type": "code",
   "execution_count": 19,
   "metadata": {
    "collapsed": false
   },
   "outputs": [
    {
     "name": "stderr",
     "output_type": "stream",
     "text": [
      "Undefined function 'Model_create' for input arguments of type 'double'.\n"
     ]
    }
   ],
   "source": [
    "testSBML"
   ]
  },
  {
   "cell_type": "markdown",
   "metadata": {
    "collapsed": true
   },
   "source": [
    "Running this again in the MATLAB environment, I see that this error comes from the following:\n",
    "\n",
    ">`>>> testSBML`\n",
    ">Test for readCbModel succeeded\n",
    ">Undefined function 'Model_create' for input arguments of type 'double'.\n",
    ">\n",
    ">Error in convertCobraToSBML (line 63)\n",
    ">sbmlModel = Model_create(sbmlLevel, sbmlVersion);\n",
    ">\n",
    ">\n",
    ">Error in writeCbModel (line 256)\n",
    ">        sbmlModel = convertCobraToSBML(model,sbmlLevel,sbmlVersion,compSymbolList,compNameList);\n",
    ">\n",
    ">\n",
    ">Error in testSBML (line 92)\n",
    ">writeCbModel( testModel, 'sbml', 'test_model.sbml');\n",
    "\n",
    "I mostly care about reading SBML files at the moment, not writing. So that error is okay for me!"
   ]
  },
  {
   "cell_type": "code",
   "execution_count": null,
   "metadata": {
    "collapsed": true
   },
   "outputs": [],
   "source": []
  }
 ],
 "metadata": {
  "kernelspec": {
   "display_name": "Matlab",
   "language": "matlab",
   "name": "matlab"
  },
  "language_info": {
   "codemirror_mode": "octave",
   "file_extension": ".m",
   "help_links": [
    {
     "text": "MetaKernel Magics",
     "url": "https://github.com/calysto/metakernel/blob/master/metakernel/magics/README.md"
    }
   ],
   "mimetype": "text/x-matlab",
   "name": "matlab",
   "version": "0.8.0"
  }
 },
 "nbformat": 4,
 "nbformat_minor": 0
}
