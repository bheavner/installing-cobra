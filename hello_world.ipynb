{
 "cells": [
  {
   "cell_type": "markdown",
   "metadata": {},
   "source": [
    "Let's try Hello World in Matlab..."
   ]
  },
  {
   "cell_type": "code",
   "execution_count": 2,
   "metadata": {
    "collapsed": false
   },
   "outputs": [
    {
     "name": "stdout",
     "output_type": "stream",
     "text": [
      "HELLO:\n",
      "  This is how to say:\n",
      "\n",
      "  Hello, world!\n"
     ]
    }
   ],
   "source": [
    "fprintf ( 1, '\\n' );\n",
    "  fprintf ( 1, 'HELLO:\\n' );\n",
    "  fprintf ( 1, '  This is how to say:\\n' );\n",
    "  fprintf ( 1, '\\n' );\n",
    "  fprintf ( 1, '  Hello, world!\\n' );"
   ]
  }
 ],
 "metadata": {
  "kernelspec": {
   "display_name": "Matlab",
   "language": "matlab",
   "name": "matlab"
  },
  "language_info": {
   "codemirror_mode": "octave",
   "file_extension": ".m",
   "help_links": [
    {
     "text": "MetaKernel Magics",
     "url": "https://github.com/calysto/metakernel/blob/master/metakernel/magics/README.md"
    }
   ],
   "mimetype": "text/x-matlab",
   "name": "matlab",
   "version": "0.8.0"
  }
 },
 "nbformat": 4,
 "nbformat_minor": 0
}
