{
 "cells": [
  {
   "cell_type": "markdown",
   "metadata": {},
   "source": [
    "Let's try Hello World in Matlab..."
   ]
  },
  {
   "cell_type": "code",
   "execution_count": 1,
   "metadata": {
    "collapsed": false
   },
   "outputs": [
    {
     "name": "stdout",
     "output_type": "stream",
     "text": [
      "HELLO:\n",
      "  This is how to say:\n",
      "\n",
      "  Hello, world!\n"
     ]
    }
   ],
   "source": [
    "fprintf ( 1, '\\n' );\n",
    "  fprintf ( 1, 'HELLO:\\n' );\n",
    "  fprintf ( 1, '  This is how to say:\\n' );\n",
    "  fprintf ( 1, '\\n' );\n",
    "  fprintf ( 1, '  Hello, world!\\n' );"
   ]
  },
  {
   "cell_type": "code",
   "execution_count": 2,
   "metadata": {
    "collapsed": false,
    "scrolled": true
   },
   "outputs": [
    {
     "name": "stdout",
     "output_type": "stream",
     "text": [
      "The bald and not excessively bald and not excessively smart hamster obeyed a terrified and not excessively terrified hamster.\n"
     ]
    }
   ],
   "source": [
    "why"
   ]
  }
 ],
 "metadata": {
  "kernelspec": {
   "display_name": "Matlab",
   "language": "matlab",
   "name": "matlab"
  },
  "language_info": {
   "codemirror_mode": "octave",
   "file_extension": ".m",
   "help_links": [
    {
     "text": "MetaKernel Magics",
     "url": "https://github.com/calysto/metakernel/blob/master/metakernel/magics/README.md"
    }
   ],
   "mimetype": "text/x-matlab",
   "name": "matlab",
   "version": "0.8.0"
  }
 },
 "nbformat": 4,
 "nbformat_minor": 0
}
